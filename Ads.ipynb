{
 "cells": [
  {
   "cell_type": "code",
   "execution_count": 1,
   "metadata": {},
   "outputs": [],
   "source": [
    "import pandas as pd\n",
    "from sqlalchemy import create_engine\n"
   ]
  },
  {
   "cell_type": "code",
   "execution_count": 2,
   "metadata": {
    "scrolled": true
   },
   "outputs": [
    {
     "data": {
      "text/html": [
       "<div>\n",
       "<style scoped>\n",
       "    .dataframe tbody tr th:only-of-type {\n",
       "        vertical-align: middle;\n",
       "    }\n",
       "\n",
       "    .dataframe tbody tr th {\n",
       "        vertical-align: top;\n",
       "    }\n",
       "\n",
       "    .dataframe thead th {\n",
       "        text-align: right;\n",
       "    }\n",
       "</style>\n",
       "<table border=\"1\" class=\"dataframe\">\n",
       "  <thead>\n",
       "    <tr style=\"text-align: right;\">\n",
       "      <th></th>\n",
       "      <th>Year</th>\n",
       "      <th>Product Type</th>\n",
       "      <th>Product/Title</th>\n",
       "      <th>Plot/Notes</th>\n",
       "      <th>Unnamed: 4</th>\n",
       "      <th>Unnamed: 5</th>\n",
       "    </tr>\n",
       "  </thead>\n",
       "  <tbody>\n",
       "    <tr>\n",
       "      <th>0</th>\n",
       "      <td>1969</td>\n",
       "      <td>Car</td>\n",
       "      <td>Chrysler \"Scuba Diver\"[4]</td>\n",
       "      <td>A scuba diver in a dreamy sequence with groovy...</td>\n",
       "      <td>NaN</td>\n",
       "      <td>NaN</td>\n",
       "    </tr>\n",
       "    <tr>\n",
       "      <th>1</th>\n",
       "      <td>1970</td>\n",
       "      <td>Car</td>\n",
       "      <td>Pontiac\"Humbler\"</td>\n",
       "      <td>A young man pulled up in his GTO to a drive-in...</td>\n",
       "      <td>NaN</td>\n",
       "      <td>NaN</td>\n",
       "    </tr>\n",
       "    <tr>\n",
       "      <th>2</th>\n",
       "      <td>1975</td>\n",
       "      <td>Security</td>\n",
       "      <td>Master Lock\"Rifle\"</td>\n",
       "      <td>A man attempts to break a Master Lock with a r...</td>\n",
       "      <td>NaN</td>\n",
       "      <td>NaN</td>\n",
       "    </tr>\n",
       "    <tr>\n",
       "      <th>3</th>\n",
       "      <td>1976</td>\n",
       "      <td>Copy</td>\n",
       "      <td>Xerox\"Monks\"</td>\n",
       "      <td>A monk must make 500 handwritten scriptures fo...</td>\n",
       "      <td>NaN</td>\n",
       "      <td>NaN</td>\n",
       "    </tr>\n",
       "    <tr>\n",
       "      <th>4</th>\n",
       "      <td>1979</td>\n",
       "      <td>Soft drink</td>\n",
       "      <td>Coca-Cola\"Hey Kid, Catch!\"</td>\n",
       "      <td>A young kid tries to talk to \"Mean\" Joe Greene...</td>\n",
       "      <td>NaN</td>\n",
       "      <td>NaN</td>\n",
       "    </tr>\n",
       "  </tbody>\n",
       "</table>\n",
       "</div>"
      ],
      "text/plain": [
       "   Year Product Type               Product/Title  \\\n",
       "0  1969          Car   Chrysler \"Scuba Diver\"[4]   \n",
       "1  1970          Car            Pontiac\"Humbler\"   \n",
       "2  1975     Security          Master Lock\"Rifle\"   \n",
       "3  1976         Copy                Xerox\"Monks\"   \n",
       "4  1979   Soft drink  Coca-Cola\"Hey Kid, Catch!\"   \n",
       "\n",
       "                                          Plot/Notes Unnamed: 4 Unnamed: 5  \n",
       "0  A scuba diver in a dreamy sequence with groovy...        NaN        NaN  \n",
       "1  A young man pulled up in his GTO to a drive-in...        NaN        NaN  \n",
       "2  A man attempts to break a Master Lock with a r...        NaN        NaN  \n",
       "3  A monk must make 500 handwritten scriptures fo...        NaN        NaN  \n",
       "4  A young kid tries to talk to \"Mean\" Joe Greene...        NaN        NaN  "
      ]
     },
     "execution_count": 2,
     "metadata": {},
     "output_type": "execute_result"
    }
   ],
   "source": [
    "csv_file  = \"superbowl_ads.csv\"\n",
    "superbowl_ads_df = pd.read_csv(csv_file)\n",
    "superbowl_ads_df.head()"
   ]
  }
 ],
 "metadata": {
  "kernelspec": {
   "display_name": "Python 3",
   "language": "python",
   "name": "python3"
  },
  "language_info": {
   "codemirror_mode": {
    "name": "ipython",
    "version": 3
   },
   "file_extension": ".py",
   "mimetype": "text/x-python",
   "name": "python",
   "nbconvert_exporter": "python",
   "pygments_lexer": "ipython3",
   "version": "3.8.3"
  }
 },
 "nbformat": 4,
 "nbformat_minor": 4
}
